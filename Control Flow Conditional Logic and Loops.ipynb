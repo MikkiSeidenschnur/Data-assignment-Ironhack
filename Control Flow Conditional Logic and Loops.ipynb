{
 "cells": [
  {
   "cell_type": "code",
   "execution_count": 4,
   "metadata": {},
   "outputs": [
    {
     "name": "stdout",
     "output_type": "stream",
     "text": [
      "Happy variable is set to True\n"
     ]
    }
   ],
   "source": [
    "happy = True\n",
    "print(\"Happy variable is set to\", happy)"
   ]
  },
  {
   "cell_type": "code",
   "execution_count": 6,
   "metadata": {},
   "outputs": [
    {
     "name": "stdout",
     "output_type": "stream",
     "text": [
      "True\n",
      "True\n",
      "True\n",
      "False\n",
      "True\n",
      "False\n"
     ]
    }
   ],
   "source": [
    "print(5 + 5 == 10)\n",
    "print('apple' != 'orange')\n",
    "print(100 > 75)\n",
    "print(93 < 80)\n",
    "print(3 in [1,2,3,4,5])\n",
    "print(3 not in [1,2,3,4,5])"
   ]
  },
  {
   "cell_type": "code",
   "execution_count": 8,
   "metadata": {},
   "outputs": [
    {
     "name": "stdout",
     "output_type": "stream",
     "text": [
      "True\n",
      "False\n",
      "True\n",
      "False\n"
     ]
    }
   ],
   "source": [
    "print((5 + 5 == 10) & ('apple' != 'orange'))\n",
    "print((100 > 75) & (93 < 80))\n",
    "print((100 > 75) | (93 < 80))\n",
    "print((93 < 80) | (3 not in [1,2,3,4,5]))"
   ]
  },
  {
   "cell_type": "code",
   "execution_count": 9,
   "metadata": {},
   "outputs": [
    {
     "name": "stdout",
     "output_type": "stream",
     "text": [
      "Number is exactly 10\n"
     ]
    }
   ],
   "source": [
    "number = 10\n",
    "\n",
    "if number < 10:\n",
    "    print(\"Number is less than 10\")\n",
    "elif number > 10: \n",
    "    print(\"Number is greater than 10\")\n",
    "elif number == 10:\n",
    "    print(\"Number is exactly 10\")\n",
    "else:\n",
    "    print(\"Number is probably not a number at all\")"
   ]
  },
  {
   "cell_type": "code",
   "execution_count": 10,
   "metadata": {},
   "outputs": [
    {
     "name": "stdout",
     "output_type": "stream",
     "text": [
      "Your total commute time is expected to be 50 minutes.\n"
     ]
    }
   ],
   "source": [
    "commute = 30\n",
    "rain = False\n",
    "traffic = True\n",
    "\n",
    "if (rain == True) | (traffic == True):\n",
    "    if(rain == True) & (traffic == True):\n",
    "        total_commute = commute + 15 + 20\n",
    "    elif(rain == True) & (traffic == True):\n",
    "        total_commute = commute + 15\n",
    "    elif(rain == False) & (traffic == True):\n",
    "        total_commute = commute + 20\n",
    "    \n",
    "else: \n",
    "    total_commute = commute\n",
    "    \n",
    "print(\"Your total commute time is expected to be\", total_commute, \"minutes.\")"
   ]
  },
  {
   "cell_type": "code",
   "execution_count": 11,
   "metadata": {},
   "outputs": [
    {
     "data": {
      "text/plain": [
       "10"
      ]
     },
     "execution_count": 11,
     "metadata": {},
     "output_type": "execute_result"
    }
   ],
   "source": [
    "range(10)\n",
    "range(0,10)\n",
    "range(5,15)\n",
    "\n",
    "len(range(5,15))"
   ]
  },
  {
   "cell_type": "code",
   "execution_count": 12,
   "metadata": {},
   "outputs": [
    {
     "name": "stdout",
     "output_type": "stream",
     "text": [
      "5\n",
      "6\n",
      "7\n",
      "8\n",
      "9\n",
      "10\n",
      "11\n",
      "12\n",
      "13\n",
      "14\n"
     ]
    }
   ],
   "source": [
    "for i in range(5,15):\n",
    "    print(i)"
   ]
  },
  {
   "cell_type": "code",
   "execution_count": 13,
   "metadata": {},
   "outputs": [
    {
     "name": "stdout",
     "output_type": "stream",
     "text": [
      "apple\n",
      "orange\n",
      "banana\n",
      "grapes\n",
      "pineapple\n"
     ]
    }
   ],
   "source": [
    "fruits = ['apple', 'orange', 'banana', 'grapes', 'pineapple']\n",
    "\n",
    "for fruit in fruits:\n",
    "    print(fruit)"
   ]
  },
  {
   "cell_type": "code",
   "execution_count": 14,
   "metadata": {},
   "outputs": [
    {
     "name": "stdout",
     "output_type": "stream",
     "text": [
      "Brian is 23 years old.\n",
      "Amy is 22 years old.\n",
      "Darlene is 47 years old.\n",
      "Ralph is 32 years old.\n",
      "Jordan is 28 years old.\n",
      "Stephanie is 35 years old.\n"
     ]
    }
   ],
   "source": [
    "ages = {'Brian':23, 'Amy':22, 'Darlene':47, 'Ralph':32, 'Jordan':28, 'Stephanie':35}\n",
    "\n",
    "for name, age in ages.items():\n",
    "    print(name, \"is\", age, \"years old.\")"
   ]
  },
  {
   "cell_type": "code",
   "execution_count": 15,
   "metadata": {},
   "outputs": [
    {
     "name": "stdout",
     "output_type": "stream",
     "text": [
      "Total is current 34\n",
      "Total is current 46\n",
      "Total is current 139\n",
      "Total is current 922\n",
      "Total is current 1252\n",
      "Total is current 2148\n",
      "Total is current 2149\n",
      "Total is current 2204\n",
      "Total is current 2238\n",
      "Total is current 2250\n",
      "Total is current 2343\n",
      "Total is current 3126\n",
      "Total is current 3456\n",
      "Total is current 4352\n",
      "Total is current 4353\n",
      "Total is current 4408\n",
      "Total is current 4442\n",
      "Total is current 4454\n",
      "Total is current 4547\n",
      "Total is current 5330\n",
      "Total is current 5660\n",
      "Total is current 6556\n",
      "Total is current 6557\n",
      "Total is current 6612\n",
      "Total is current 6646\n",
      "Total is current 6658\n",
      "Total is current 6751\n",
      "Total is current 7534\n",
      "Total is current 7864\n",
      "Total is current 8760\n",
      "Total is current 8761\n",
      "Total is current 8816\n",
      "Total is current 8850\n",
      "Total is current 8862\n",
      "Total is current 8955\n",
      "Total is current 9738\n",
      "Total is current 10068\n",
      "Total is current 10964\n",
      "Total is current 10965\n",
      "Total is current 11020\n",
      "Total is current 11054\n",
      "Total is current 11066\n",
      "Total is current 11159\n",
      "Total is current 11942\n",
      "Total is current 12272\n",
      "Total is current 13168\n",
      "Total is current 13169\n",
      "Total is current 13224\n",
      "Total is current 13258\n",
      "Total is current 13270\n",
      "Total is current 13363\n",
      "Total is current 14146\n",
      "Total is current 14476\n",
      "Total is current 15372\n",
      "Total is current 15373\n",
      "Total is current 15428\n",
      "Total is current 15462\n",
      "Total is current 15474\n",
      "Total is current 15567\n",
      "Total is current 16350\n",
      "Total is current 16680\n",
      "Total is current 17576\n",
      "Total is current 17577\n",
      "Total is current 17632\n"
     ]
    }
   ],
   "source": [
    "num_list = [34, 12, 93, 783, 330, 896, 1, 55]\n",
    "\n",
    "total = 0\n",
    "\n",
    "for i in num_list:\n",
    "    for i in num_list:\n",
    "        total += i\n",
    "        print(\"Total is current\", total)"
   ]
  },
  {
   "cell_type": "code",
   "execution_count": 16,
   "metadata": {},
   "outputs": [
    {
     "name": "stdout",
     "output_type": "stream",
     "text": [
      "[1, 4, 9, 16, 25, 36, 49, 64, 81, 100]\n"
     ]
    }
   ],
   "source": [
    "new_list = []\n",
    "\n",
    "for i in range(1, 11):\n",
    "    square = i**2\n",
    "    new_list.append(square)\n",
    "\n",
    "print(new_list)"
   ]
  },
  {
   "cell_type": "code",
   "execution_count": 17,
   "metadata": {},
   "outputs": [
    {
     "name": "stdout",
     "output_type": "stream",
     "text": [
      "Cake is in the oven.\n",
      "Cake is not done yet.\n",
      "Cake is not done yet.\n",
      "Cake is not done yet.\n",
      "Cake is not done yet.\n",
      "It's done. Let's eat cake!\n"
     ]
    }
   ],
   "source": [
    "total_time = 60\n",
    "minutes_elapsed = 0\n",
    "wait = 15\n",
    "\n",
    "print(\"Cake is in the oven.\")\n",
    "minutes_elapsed = 0\n",
    "wait = 15\n",
    "\n",
    "while minutes_elapsed < total_time:\n",
    "    print(\"Cake is not done yet.\")\n",
    "    minutes_elapsed += wait\n",
    "\n",
    "print(\"It's done. Let's eat cake!\")"
   ]
  },
  {
   "cell_type": "code",
   "execution_count": null,
   "metadata": {},
   "outputs": [],
   "source": []
  }
 ],
 "metadata": {
  "kernelspec": {
   "display_name": "Python 3",
   "language": "python",
   "name": "python3"
  },
  "language_info": {
   "codemirror_mode": {
    "name": "ipython",
    "version": 3
   },
   "file_extension": ".py",
   "mimetype": "text/x-python",
   "name": "python",
   "nbconvert_exporter": "python",
   "pygments_lexer": "ipython3",
   "version": "3.8.2"
  }
 },
 "nbformat": 4,
 "nbformat_minor": 4
}
